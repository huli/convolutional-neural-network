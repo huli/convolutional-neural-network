{
 "cells": [
  {
   "cell_type": "code",
   "execution_count": 423,
   "metadata": {
    "collapsed": true
   },
   "outputs": [],
   "source": [
    "def unknown_classification(a, b, z):\n",
    "    if a+b+z < 1:\n",
    "        return 0\n",
    "    else:\n",
    "        return 1"
   ]
  },
  {
   "cell_type": "code",
   "execution_count": 424,
   "metadata": {},
   "outputs": [],
   "source": [
    "import random\n",
    "random_data = [(x, y, z, unknown_classification(x, y, z), abs(1-unknown_classification(x, y, z))) \n",
    "                                           for x in [random.random()/2 for x in range(10)]\n",
    "                                           for y in [random.random()/2 for x in range(10)]\n",
    "                                           for z in [random.random()/2 for x in range(10)]]"
   ]
  },
  {
   "cell_type": "code",
   "execution_count": 425,
   "metadata": {},
   "outputs": [
    {
     "data": {
      "text/plain": [
       "[(0.4411822656325668, 0.1559806374192696, 0.17304512820595774, 0, 1),\n",
       " (0.4411822656325668, 0.1559806374192696, 0.19626311295203386, 0, 1),\n",
       " (0.4411822656325668, 0.1559806374192696, 0.4691841008076463, 1, 0),\n",
       " (0.4411822656325668, 0.1559806374192696, 0.2510769851363644, 0, 1),\n",
       " (0.4411822656325668, 0.1559806374192696, 0.4164982751557643, 1, 0),\n",
       " (0.4411822656325668, 0.1559806374192696, 0.08497428815101626, 0, 1),\n",
       " (0.4411822656325668, 0.1559806374192696, 0.18083463517849835, 0, 1),\n",
       " (0.4411822656325668, 0.1559806374192696, 0.38540733578299463, 0, 1),\n",
       " (0.4411822656325668, 0.1559806374192696, 0.3941817765564385, 0, 1),\n",
       " (0.4411822656325668, 0.1559806374192696, 0.1558932304775713, 0, 1)]"
      ]
     },
     "execution_count": 425,
     "metadata": {},
     "output_type": "execute_result"
    }
   ],
   "source": [
    "random_data[:10]"
   ]
  },
  {
   "cell_type": "code",
   "execution_count": 469,
   "metadata": {},
   "outputs": [],
   "source": [
    "import numpy as np \n",
    "data = np.array(random_data)\n",
    "np.random.shuffle(data)"
   ]
  },
  {
   "cell_type": "code",
   "execution_count": 470,
   "metadata": {},
   "outputs": [
    {
     "data": {
      "text/plain": [
       "(1000, 5)"
      ]
     },
     "execution_count": 470,
     "metadata": {},
     "output_type": "execute_result"
    }
   ],
   "source": [
    "data.shape"
   ]
  },
  {
   "cell_type": "code",
   "execution_count": 471,
   "metadata": {},
   "outputs": [],
   "source": [
    "train_data = data[:int(data.shape[0]*.7)]"
   ]
  },
  {
   "cell_type": "code",
   "execution_count": 472,
   "metadata": {},
   "outputs": [
    {
     "data": {
      "text/plain": [
       "700"
      ]
     },
     "execution_count": 472,
     "metadata": {},
     "output_type": "execute_result"
    }
   ],
   "source": [
    "len(train_data)"
   ]
  },
  {
   "cell_type": "code",
   "execution_count": 473,
   "metadata": {},
   "outputs": [],
   "source": [
    "test_data = data[train_data.shape[0]:]"
   ]
  },
  {
   "cell_type": "code",
   "execution_count": 474,
   "metadata": {},
   "outputs": [
    {
     "data": {
      "text/plain": [
       "300"
      ]
     },
     "execution_count": 474,
     "metadata": {},
     "output_type": "execute_result"
    }
   ],
   "source": [
    "len(test_data)"
   ]
  },
  {
   "cell_type": "code",
   "execution_count": 475,
   "metadata": {},
   "outputs": [],
   "source": [
    "x_train = train_data[:, :3]\n",
    "x_test = test_data[:, :3]"
   ]
  },
  {
   "cell_type": "code",
   "execution_count": 476,
   "metadata": {},
   "outputs": [
    {
     "data": {
      "text/plain": [
       "array([[ 0.04385478,  0.45538533,  0.16354778],\n",
       "       [ 0.48563993,  0.02898427,  0.48524876],\n",
       "       [ 0.04385478,  0.04918372,  0.48144992],\n",
       "       ..., \n",
       "       [ 0.13775181,  0.14198826,  0.45988384],\n",
       "       [ 0.38435692,  0.2557829 ,  0.15324224],\n",
       "       [ 0.04385478,  0.29377507,  0.3304793 ]])"
      ]
     },
     "execution_count": 476,
     "metadata": {},
     "output_type": "execute_result"
    }
   ],
   "source": [
    "x_train"
   ]
  },
  {
   "cell_type": "code",
   "execution_count": 477,
   "metadata": {},
   "outputs": [],
   "source": [
    "y_train = train_data[:, 3:]\n",
    "y_test = test_data[:, 3: ]"
   ]
  },
  {
   "cell_type": "code",
   "execution_count": 478,
   "metadata": {},
   "outputs": [
    {
     "data": {
      "text/plain": [
       "array([[ 0.,  1.],\n",
       "       [ 0.,  1.],\n",
       "       [ 0.,  1.],\n",
       "       ..., \n",
       "       [ 0.,  1.],\n",
       "       [ 0.,  1.],\n",
       "       [ 0.,  1.]])"
      ]
     },
     "execution_count": 478,
     "metadata": {},
     "output_type": "execute_result"
    }
   ],
   "source": [
    "y_train"
   ]
  },
  {
   "cell_type": "code",
   "execution_count": 479,
   "metadata": {},
   "outputs": [],
   "source": [
    "import keras"
   ]
  },
  {
   "cell_type": "code",
   "execution_count": 480,
   "metadata": {},
   "outputs": [
    {
     "name": "stdout",
     "output_type": "stream",
     "text": [
      "_________________________________________________________________\n",
      "Layer (type)                 Output Shape              Param #   \n",
      "=================================================================\n",
      "dense_64 (Dense)             (None, 3)                 12        \n",
      "_________________________________________________________________\n",
      "dense_65 (Dense)             (None, 2)                 8         \n",
      "=================================================================\n",
      "Total params: 20\n",
      "Trainable params: 20\n",
      "Non-trainable params: 0\n",
      "_________________________________________________________________\n"
     ]
    }
   ],
   "source": [
    "from keras.models import Sequential\n",
    "from keras.layers import Dense, Flatten\n",
    "\n",
    "model = Sequential()\n",
    "model.add(Dense(3, input_shape=x_train.shape[1:]))\n",
    "model.add(Dense(2, activation='softmax'))\n",
    "\n",
    "model.summary()"
   ]
  },
  {
   "cell_type": "code",
   "execution_count": 481,
   "metadata": {},
   "outputs": [],
   "source": [
    "# compile the model\n",
    "model.compile(loss='categorical_crossentropy', optimizer='rmsprop', \n",
    "                  metrics=['accuracy'])"
   ]
  },
  {
   "cell_type": "code",
   "execution_count": 482,
   "metadata": {},
   "outputs": [
    {
     "name": "stdout",
     "output_type": "stream",
     "text": [
      "Epoch 1/20\n",
      "700/700 [==============================] - 1s 2ms/step - loss: 0.6773 - acc: 0.6986\n",
      "Epoch 2/20\n",
      "700/700 [==============================] - 0s 195us/step - loss: 0.6472 - acc: 0.8686\n",
      "Epoch 3/20\n",
      "700/700 [==============================] - 0s 194us/step - loss: 0.6208 - acc: 0.8771\n",
      "Epoch 4/20\n",
      "700/700 [==============================] - 0s 201us/step - loss: 0.5957 - acc: 0.8771\n",
      "Epoch 5/20\n",
      "700/700 [==============================] - 0s 215us/step - loss: 0.5710 - acc: 0.8771\n",
      "Epoch 6/20\n",
      "700/700 [==============================] - 0s 212us/step - loss: 0.5465 - acc: 0.8771\n",
      "Epoch 7/20\n",
      "700/700 [==============================] - 0s 195us/step - loss: 0.5235 - acc: 0.8771\n",
      "Epoch 8/20\n",
      "700/700 [==============================] - 0s 203us/step - loss: 0.5020 - acc: 0.8771\n",
      "Epoch 9/20\n",
      "700/700 [==============================] - 0s 210us/step - loss: 0.4820 - acc: 0.8771\n",
      "Epoch 10/20\n",
      "700/700 [==============================] - 0s 216us/step - loss: 0.4640 - acc: 0.8771\n",
      "Epoch 11/20\n",
      "700/700 [==============================] - 0s 206us/step - loss: 0.4486 - acc: 0.8771\n",
      "Epoch 12/20\n",
      "700/700 [==============================] - 0s 201us/step - loss: 0.4359 - acc: 0.8771\n",
      "Epoch 13/20\n",
      "700/700 [==============================] - 0s 188us/step - loss: 0.4261 - acc: 0.8771\n",
      "Epoch 14/20\n",
      "700/700 [==============================] - 0s 195us/step - loss: 0.4181 - acc: 0.8771\n",
      "Epoch 15/20\n",
      "700/700 [==============================] - 0s 198us/step - loss: 0.4119 - acc: 0.8771\n",
      "Epoch 16/20\n",
      "700/700 [==============================] - 0s 199us/step - loss: 0.4076 - acc: 0.8771\n",
      "Epoch 17/20\n",
      "700/700 [==============================] - 0s 196us/step - loss: 0.4043 - acc: 0.8771\n",
      "Epoch 18/20\n",
      "700/700 [==============================] - 0s 193us/step - loss: 0.4015 - acc: 0.8771\n",
      "Epoch 19/20\n",
      "700/700 [==============================] - 0s 199us/step - loss: 0.3991 - acc: 0.8771\n",
      "Epoch 20/20\n",
      "700/700 [==============================] - 0s 206us/step - loss: 0.3970 - acc: 0.8771\n"
     ]
    },
    {
     "data": {
      "text/plain": [
       "<keras.callbacks.History at 0x7f2305651d68>"
      ]
     },
     "execution_count": 482,
     "metadata": {},
     "output_type": "execute_result"
    }
   ],
   "source": [
    "model.fit(x_train, y_train, epochs=20, verbose=1)"
   ]
  },
  {
   "cell_type": "code",
   "execution_count": 455,
   "metadata": {},
   "outputs": [
    {
     "name": "stdout",
     "output_type": "stream",
     "text": [
      "300/300 [==============================] - 0s 1ms/step\n"
     ]
    }
   ],
   "source": [
    "score = model.evaluate(x_test, y_test)"
   ]
  },
  {
   "cell_type": "code",
   "execution_count": 456,
   "metadata": {},
   "outputs": [
    {
     "name": "stdout",
     "output_type": "stream",
     "text": [
      "Test accurracy: 0.87\n"
     ]
    }
   ],
   "source": [
    "print('Test accurracy: %.2f' % score[1])"
   ]
  },
  {
   "cell_type": "code",
   "execution_count": 462,
   "metadata": {},
   "outputs": [
    {
     "data": {
      "text/plain": [
       "array([[ 0.1248996 ,  0.87510037],\n",
       "       [ 0.1255036 ,  0.87449634],\n",
       "       [ 0.12356329,  0.87643671],\n",
       "       [ 0.12564658,  0.87435341],\n",
       "       [ 0.12549916,  0.87450081],\n",
       "       [ 0.12485445,  0.87514555],\n",
       "       [ 0.12471019,  0.87528986],\n",
       "       [ 0.12543291,  0.87456709],\n",
       "       [ 0.12531188,  0.87468809],\n",
       "       [ 0.12329019,  0.87670988]], dtype=float32)"
      ]
     },
     "execution_count": 462,
     "metadata": {},
     "output_type": "execute_result"
    }
   ],
   "source": [
    "model.predict(x_test[:10])"
   ]
  },
  {
   "cell_type": "code",
   "execution_count": null,
   "metadata": {
    "collapsed": true
   },
   "outputs": [],
   "source": []
  }
 ],
 "metadata": {
  "kernelspec": {
   "display_name": "Python 3",
   "language": "python",
   "name": "python3"
  },
  "language_info": {
   "codemirror_mode": {
    "name": "ipython",
    "version": 3
   },
   "file_extension": ".py",
   "mimetype": "text/x-python",
   "name": "python",
   "nbconvert_exporter": "python",
   "pygments_lexer": "ipython3",
   "version": "3.6.2"
  }
 },
 "nbformat": 4,
 "nbformat_minor": 2
}
